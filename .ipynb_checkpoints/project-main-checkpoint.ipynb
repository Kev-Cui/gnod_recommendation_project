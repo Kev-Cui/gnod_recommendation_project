{
 "cells": [
  {
   "cell_type": "markdown",
   "id": "ed0633e6",
   "metadata": {},
   "source": [
    "# Lab 1 - Web Scraping Single Page"
   ]
  },
  {
   "cell_type": "code",
   "execution_count": 1,
   "id": "c4259803",
   "metadata": {},
   "outputs": [],
   "source": [
    "from bs4 import BeautifulSoup\n",
    "import requests\n",
    "import pandas as pd"
   ]
  },
  {
   "cell_type": "code",
   "execution_count": 2,
   "id": "5f01e099",
   "metadata": {},
   "outputs": [],
   "source": [
    "#request and make soup\n",
    "url = \"https://www.popvortex.com/music/charts/top-100-songs.php\"\n",
    "soup = BeautifulSoup(requests.get(url).content, 'html.parser')"
   ]
  },
  {
   "cell_type": "code",
   "execution_count": 3,
   "id": "11be0786",
   "metadata": {},
   "outputs": [],
   "source": [
    "#the page structure is strait forward, two for loops should create two lists of songs and artists in the correct and matching order\n",
    "songs = []\n",
    "artists = []\n",
    "\n",
    "for artist in soup.select('em.artist'):\n",
    "    artists.append(artist.text)\n",
    "    \n",
    "for song in soup.select('cite.title'):\n",
    "    songs.append(song.text)"
   ]
  },
  {
   "cell_type": "code",
   "execution_count": 4,
   "id": "e6441304",
   "metadata": {},
   "outputs": [
    {
     "data": {
      "text/html": [
       "<div>\n",
       "<style scoped>\n",
       "    .dataframe tbody tr th:only-of-type {\n",
       "        vertical-align: middle;\n",
       "    }\n",
       "\n",
       "    .dataframe tbody tr th {\n",
       "        vertical-align: top;\n",
       "    }\n",
       "\n",
       "    .dataframe thead th {\n",
       "        text-align: right;\n",
       "    }\n",
       "</style>\n",
       "<table border=\"1\" class=\"dataframe\">\n",
       "  <thead>\n",
       "    <tr style=\"text-align: right;\">\n",
       "      <th></th>\n",
       "      <th>song</th>\n",
       "      <th>artist</th>\n",
       "    </tr>\n",
       "  </thead>\n",
       "  <tbody>\n",
       "    <tr>\n",
       "      <th>0</th>\n",
       "      <td>TEXAS HOLD 'EM</td>\n",
       "      <td>Beyoncé</td>\n",
       "    </tr>\n",
       "    <tr>\n",
       "      <th>1</th>\n",
       "      <td>Lose Control</td>\n",
       "      <td>Teddy Swims</td>\n",
       "    </tr>\n",
       "    <tr>\n",
       "      <th>2</th>\n",
       "      <td>Beautiful Things</td>\n",
       "      <td>Benson Boone</td>\n",
       "    </tr>\n",
       "    <tr>\n",
       "      <th>3</th>\n",
       "      <td>Flowers</td>\n",
       "      <td>Miley Cyrus</td>\n",
       "    </tr>\n",
       "    <tr>\n",
       "      <th>4</th>\n",
       "      <td>Turn the Lights Back On</td>\n",
       "      <td>Billy Joel</td>\n",
       "    </tr>\n",
       "    <tr>\n",
       "      <th>...</th>\n",
       "      <td>...</td>\n",
       "      <td>...</td>\n",
       "    </tr>\n",
       "    <tr>\n",
       "      <th>95</th>\n",
       "      <td>Tell It To My Heart</td>\n",
       "      <td>Cash Cash &amp; Taylor Dayne</td>\n",
       "    </tr>\n",
       "    <tr>\n",
       "      <th>96</th>\n",
       "      <td>We Takin' Over (feat. Akon, T.I., Rick Ross, F...</td>\n",
       "      <td>DJ Khaled</td>\n",
       "    </tr>\n",
       "    <tr>\n",
       "      <th>97</th>\n",
       "      <td>Used To Be Young</td>\n",
       "      <td>Miley Cyrus</td>\n",
       "    </tr>\n",
       "    <tr>\n",
       "      <th>98</th>\n",
       "      <td>Heart Like a Truck</td>\n",
       "      <td>Lainey Wilson</td>\n",
       "    </tr>\n",
       "    <tr>\n",
       "      <th>99</th>\n",
       "      <td>greedy</td>\n",
       "      <td>Tate McRae</td>\n",
       "    </tr>\n",
       "  </tbody>\n",
       "</table>\n",
       "<p>100 rows × 2 columns</p>\n",
       "</div>"
      ],
      "text/plain": [
       "                                                 song  \\\n",
       "0                                      TEXAS HOLD 'EM   \n",
       "1                                        Lose Control   \n",
       "2                                    Beautiful Things   \n",
       "3                                             Flowers   \n",
       "4                             Turn the Lights Back On   \n",
       "..                                                ...   \n",
       "95                                Tell It To My Heart   \n",
       "96  We Takin' Over (feat. Akon, T.I., Rick Ross, F...   \n",
       "97                                   Used To Be Young   \n",
       "98                                 Heart Like a Truck   \n",
       "99                                             greedy   \n",
       "\n",
       "                      artist  \n",
       "0                    Beyoncé  \n",
       "1                Teddy Swims  \n",
       "2               Benson Boone  \n",
       "3                Miley Cyrus  \n",
       "4                 Billy Joel  \n",
       "..                       ...  \n",
       "95  Cash Cash & Taylor Dayne  \n",
       "96                 DJ Khaled  \n",
       "97               Miley Cyrus  \n",
       "98             Lainey Wilson  \n",
       "99                Tate McRae  \n",
       "\n",
       "[100 rows x 2 columns]"
      ]
     },
     "execution_count": 4,
     "metadata": {},
     "output_type": "execute_result"
    }
   ],
   "source": [
    "#turn to pandas dataframe and do a quick check\n",
    "\n",
    "top100songs = pd.DataFrame({\"song\":songs,\"artist\":artists})\n",
    "\n",
    "top100songs"
   ]
  },
  {
   "cell_type": "code",
   "execution_count": 5,
   "id": "d6db45c6",
   "metadata": {},
   "outputs": [
    {
     "data": {
      "text/html": [
       "<div>\n",
       "<style scoped>\n",
       "    .dataframe tbody tr th:only-of-type {\n",
       "        vertical-align: middle;\n",
       "    }\n",
       "\n",
       "    .dataframe tbody tr th {\n",
       "        vertical-align: top;\n",
       "    }\n",
       "\n",
       "    .dataframe thead th {\n",
       "        text-align: right;\n",
       "    }\n",
       "</style>\n",
       "<table border=\"1\" class=\"dataframe\">\n",
       "  <thead>\n",
       "    <tr style=\"text-align: right;\">\n",
       "      <th></th>\n",
       "      <th>song</th>\n",
       "      <th>artist</th>\n",
       "      <th>place</th>\n",
       "    </tr>\n",
       "  </thead>\n",
       "  <tbody>\n",
       "    <tr>\n",
       "      <th>0</th>\n",
       "      <td>TEXAS HOLD 'EM</td>\n",
       "      <td>Beyoncé</td>\n",
       "      <td>1</td>\n",
       "    </tr>\n",
       "    <tr>\n",
       "      <th>1</th>\n",
       "      <td>Lose Control</td>\n",
       "      <td>Teddy Swims</td>\n",
       "      <td>2</td>\n",
       "    </tr>\n",
       "    <tr>\n",
       "      <th>2</th>\n",
       "      <td>Beautiful Things</td>\n",
       "      <td>Benson Boone</td>\n",
       "      <td>3</td>\n",
       "    </tr>\n",
       "    <tr>\n",
       "      <th>3</th>\n",
       "      <td>Flowers</td>\n",
       "      <td>Miley Cyrus</td>\n",
       "      <td>4</td>\n",
       "    </tr>\n",
       "    <tr>\n",
       "      <th>4</th>\n",
       "      <td>Turn the Lights Back On</td>\n",
       "      <td>Billy Joel</td>\n",
       "      <td>5</td>\n",
       "    </tr>\n",
       "    <tr>\n",
       "      <th>...</th>\n",
       "      <td>...</td>\n",
       "      <td>...</td>\n",
       "      <td>...</td>\n",
       "    </tr>\n",
       "    <tr>\n",
       "      <th>95</th>\n",
       "      <td>Tell It To My Heart</td>\n",
       "      <td>Cash Cash &amp; Taylor Dayne</td>\n",
       "      <td>96</td>\n",
       "    </tr>\n",
       "    <tr>\n",
       "      <th>96</th>\n",
       "      <td>We Takin' Over (feat. Akon, T.I., Rick Ross, F...</td>\n",
       "      <td>DJ Khaled</td>\n",
       "      <td>97</td>\n",
       "    </tr>\n",
       "    <tr>\n",
       "      <th>97</th>\n",
       "      <td>Used To Be Young</td>\n",
       "      <td>Miley Cyrus</td>\n",
       "      <td>98</td>\n",
       "    </tr>\n",
       "    <tr>\n",
       "      <th>98</th>\n",
       "      <td>Heart Like a Truck</td>\n",
       "      <td>Lainey Wilson</td>\n",
       "      <td>99</td>\n",
       "    </tr>\n",
       "    <tr>\n",
       "      <th>99</th>\n",
       "      <td>greedy</td>\n",
       "      <td>Tate McRae</td>\n",
       "      <td>100</td>\n",
       "    </tr>\n",
       "  </tbody>\n",
       "</table>\n",
       "<p>100 rows × 3 columns</p>\n",
       "</div>"
      ],
      "text/plain": [
       "                                                 song  \\\n",
       "0                                      TEXAS HOLD 'EM   \n",
       "1                                        Lose Control   \n",
       "2                                    Beautiful Things   \n",
       "3                                             Flowers   \n",
       "4                             Turn the Lights Back On   \n",
       "..                                                ...   \n",
       "95                                Tell It To My Heart   \n",
       "96  We Takin' Over (feat. Akon, T.I., Rick Ross, F...   \n",
       "97                                   Used To Be Young   \n",
       "98                                 Heart Like a Truck   \n",
       "99                                             greedy   \n",
       "\n",
       "                      artist  place  \n",
       "0                    Beyoncé      1  \n",
       "1                Teddy Swims      2  \n",
       "2               Benson Boone      3  \n",
       "3                Miley Cyrus      4  \n",
       "4                 Billy Joel      5  \n",
       "..                       ...    ...  \n",
       "95  Cash Cash & Taylor Dayne     96  \n",
       "96                 DJ Khaled     97  \n",
       "97               Miley Cyrus     98  \n",
       "98             Lainey Wilson     99  \n",
       "99                Tate McRae    100  \n",
       "\n",
       "[100 rows x 3 columns]"
      ]
     },
     "execution_count": 5,
     "metadata": {},
     "output_type": "execute_result"
    }
   ],
   "source": [
    "#just create another dataframe with the songs' place in another column\n",
    "t100 = top100songs.copy()\n",
    "t100['place'] = range(1,len(t100)+1)\n",
    "t100"
   ]
  },
  {
   "cell_type": "markdown",
   "id": "406c7a1d",
   "metadata": {},
   "source": [
    "# Lab 2 - GNOD Part 2"
   ]
  },
  {
   "cell_type": "code",
   "execution_count": 26,
   "id": "6dbb128e",
   "metadata": {},
   "outputs": [
    {
     "data": {
      "text/plain": [
       "'CARNIVAL'"
      ]
     },
     "execution_count": 26,
     "metadata": {},
     "output_type": "execute_result"
    }
   ],
   "source": [
    "t100.sample()['song'].iloc[0]"
   ]
  },
  {
   "cell_type": "code",
   "execution_count": 27,
   "id": "ceb421f9",
   "metadata": {},
   "outputs": [],
   "source": [
    "def arrogant_recommender(song):\n",
    "    song_name = str(song).lower() #This makes all the input a lowercase string value, as far as I am concerned, this should not cause any problem and makes it convenient for comparison\n",
    "    if song_name in [name.lower() for name in list(t100['song'])]:\n",
    "        recommend = t100.sample()\n",
    "        vox = 'You may listen to ' + recommend['song'].iloc[0] + ' by ' + recommend['artist'].iloc[0] + '.'\n",
    "        print(vox)\n",
    "        return vox\n",
    "    else:\n",
    "        vox = 'We accept hot songs only, get lost.'\n",
    "        print(vox)\n",
    "        return vox"
   ]
  },
  {
   "cell_type": "code",
   "execution_count": 29,
   "id": "dc0e4cfe",
   "metadata": {},
   "outputs": [
    {
     "name": "stdout",
     "output_type": "stream",
     "text": [
      "We accept hot songs only, get lost.\n",
      "You may listen to A Symptom Of Being Human by Shinedown.\n"
     ]
    },
    {
     "data": {
      "text/plain": [
       "'You may listen to A Symptom Of Being Human by Shinedown.'"
      ]
     },
     "execution_count": 29,
     "metadata": {},
     "output_type": "execute_result"
    }
   ],
   "source": [
    "arrogant_recommender('kek')\n",
    "arrogant_recommender('GREEDY')"
   ]
  }
 ],
 "metadata": {
  "kernelspec": {
   "display_name": "Python 3 (ipykernel)",
   "language": "python",
   "name": "python3"
  },
  "language_info": {
   "codemirror_mode": {
    "name": "ipython",
    "version": 3
   },
   "file_extension": ".py",
   "mimetype": "text/x-python",
   "name": "python",
   "nbconvert_exporter": "python",
   "pygments_lexer": "ipython3",
   "version": "3.11.5"
  }
 },
 "nbformat": 4,
 "nbformat_minor": 5
}
