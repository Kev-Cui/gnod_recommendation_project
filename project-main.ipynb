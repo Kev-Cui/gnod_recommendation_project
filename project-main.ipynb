{
 "cells": [
  {
   "cell_type": "markdown",
   "id": "ed0633e6",
   "metadata": {},
   "source": [
    "# Lab 1 - Web Scraping Single Page"
   ]
  },
  {
   "cell_type": "code",
   "execution_count": 1,
   "id": "c4259803",
   "metadata": {},
   "outputs": [],
   "source": [
    "from bs4 import BeautifulSoup\n",
    "import requests\n",
    "import pandas as pd\n",
    "from pandas import json_normalize\n",
    "\n",
    "#request and make soup\n",
    "url = \"https://www.popvortex.com/music/charts/top-100-songs.php\"\n",
    "soup = BeautifulSoup(requests.get(url).content, 'html.parser')\n",
    "\n",
    "#the page structure is strait forward, two for loops should create two lists of songs and artists in the correct and matching order\n",
    "songs = []\n",
    "artists = []\n",
    "\n",
    "for artist in soup.select('em.artist'):\n",
    "    artists.append(artist.text)\n",
    "    \n",
    "for song in soup.select('cite.title'):\n",
    "    songs.append(song.text)\n",
    "\n",
    "#turn to pandas dataframe\n",
    "top100songs = pd.DataFrame({\"song\":songs,\"artist\":artists})\n",
    "\n",
    "#just create another dataframe with the songs' place in another column\n",
    "t100 = top100songs.copy()\n",
    "t100['place'] = range(1,len(t100)+1)"
   ]
  },
  {
   "cell_type": "markdown",
   "id": "406c7a1d",
   "metadata": {},
   "source": [
    "# Lab 2 - GNOD Part 2"
   ]
  },
  {
   "cell_type": "code",
   "execution_count": 2,
   "id": "ceb421f9",
   "metadata": {},
   "outputs": [],
   "source": [
    "def arrogant_recommender(song):\n",
    "    song_name = str(song).lower() #This makes all the input a lowercase string value, as far as I am concerned, this should not cause any problem and makes it convenient for comparison\n",
    "    if song_name in [name.lower() for name in list(t100['song'])]:\n",
    "        recommend = t100.sample()\n",
    "        vox = 'You may also like ' + recommend['song'].iloc[0] + ' by ' + recommend['artist'].iloc[0] + ' from the current greatst hits.'\n",
    "        print(vox)\n",
    "        return vox\n",
    "    else:\n",
    "        vox = 'We accept hot songs only, get lost.'\n",
    "        print(vox)\n",
    "        return vox"
   ]
  },
  {
   "cell_type": "code",
   "execution_count": 3,
   "id": "dc0e4cfe",
   "metadata": {},
   "outputs": [
    {
     "name": "stdout",
     "output_type": "stream",
     "text": [
      "We accept hot songs only, get lost.\n",
      "You may also like Paint The Town Red by Doja Cat from the current greatst hits.\n"
     ]
    },
    {
     "data": {
      "text/plain": [
       "'You may also like Paint The Town Red by Doja Cat from the current greatst hits.'"
      ]
     },
     "execution_count": 3,
     "metadata": {},
     "output_type": "execute_result"
    }
   ],
   "source": [
    "arrogant_recommender('kek')\n",
    "arrogant_recommender('GREEDY')"
   ]
  },
  {
   "cell_type": "markdown",
   "id": "e626aa51",
   "metadata": {},
   "source": [
    "# Lab 3 - Big Collection of Songs & Audio Features"
   ]
  },
  {
   "cell_type": "markdown",
   "id": "8a616306",
   "metadata": {},
   "source": [
    "### Converted to Markdown to prevent from running, the output dataset is saved as a .csv file in the working directory\n",
    "#### See output from previous version with commit message containing \"Solved Lab Gnod Part 3\""
   ]
  },
  {
   "cell_type": "markdown",
   "id": "5d09400f",
   "metadata": {},
   "source": [
    "import spotipy\n",
    "from spotipy.oauth2 import SpotifyClientCredentials\n",
    "secrets_file = open(\"spotifyclientsecret.txt\",\"r\")\n",
    "string = secrets_file.read()\n",
    "secrets_dict={}\n",
    "for line in string.split('\\n'):\n",
    "    if len(line) > 0:\n",
    "        #print(line.split(':'))\n",
    "        secrets_dict[line.split(':')[0]]=line.split(':')[1].strip()\n",
    "\n",
    "sp = spotipy.Spotify(auth_manager=SpotifyClientCredentials(client_id=secrets_dict['clientid'],\n",
    "                                                           client_secret=secrets_dict['clientsecret'])) # establish connection to Spotify Web api"
   ]
  },
  {
   "cell_type": "markdown",
   "id": "189139ea",
   "metadata": {},
   "source": [
    "from random import randint\n",
    "from time import sleep\n",
    "\n",
    "def get_playlist_tracks(playlist_id):\n",
    "    results = sp.user_playlist_tracks(\"spotify\",playlist_id)\n",
    "    tracks = results['items']\n",
    "    while results['next']!=None:\n",
    "        results = sp.next(results)\n",
    "        tracks = tracks + results['items']\n",
    "        sleep(randint(1,1000)/1000) # respectful nap\n",
    "    return tracks"
   ]
  },
  {
   "cell_type": "markdown",
   "id": "106b3762",
   "metadata": {},
   "source": [
    "all_tracks = get_playlist_tracks(\"6yPiKpy7evrwvZodByKvM9\")\n",
    "len(all_tracks)"
   ]
  },
  {
   "cell_type": "markdown",
   "id": "c475e74a",
   "metadata": {},
   "source": [
    "tracks = json_normalize(all_tracks)\n",
    "artists_df = pd.DataFrame(columns=['href', 'id', 'name', 'type', 'uri', 'external_urls.spotify','song_id', 'song_name', 'popularity' ])\n",
    "for i in tracks.index:\n",
    "    artists_for_song = json_normalize(tracks.iloc[i]['track.artists'])\n",
    "    artists_for_song['song_id']    = tracks.iloc[i]['track.id']         # we want to keep song_id, it is the sae for all artists\n",
    "    artists_for_song['song_name']  = tracks.iloc[i]['track.name']       # we want to keep song_name, it is the sae for all artists\n",
    "    artists_for_song['popularity'] = tracks.iloc[i]['track.popularity'] # same for popularity   \n",
    "    artists_df = pd.concat([artists_df, artists_for_song], axis=0)\n",
    "\n",
    "df_final = artists_df[['song_name', 'name', 'song_id', 'popularity']].reset_index(drop=True)\n",
    "df_final"
   ]
  },
  {
   "cell_type": "markdown",
   "id": "59b1cb20",
   "metadata": {},
   "source": [
    "#Audio feature:"
   ]
  },
  {
   "cell_type": "markdown",
   "id": "3a1147fb",
   "metadata": {},
   "source": [
    "df_final['song_id'].isnull().sum() #??????"
   ]
  },
  {
   "cell_type": "markdown",
   "id": "8648db65",
   "metadata": {},
   "source": [
    "df_final.dropna(inplace=True) # can't be bothered to investigate, just drop na\n",
    "\n",
    "chunks = [(i, i+100) for i in range(0, len(df_final), 100)]\n",
    "\n",
    "audio_features_list = []\n",
    "for chunk in chunks:\n",
    "    id_list100 = df_final['song_id'][chunk[0]:chunk[1]]\n",
    "    audio_features_list = audio_features_list + sp.audio_features(id_list100)\n",
    "    sleep(randint(1,1000)/1000)\n",
    "len(audio_features_list)"
   ]
  },
  {
   "cell_type": "markdown",
   "id": "a4d3c54b",
   "metadata": {
    "scrolled": true
   },
   "source": [
    "audio_features_df = pd.DataFrame(audio_features_list)\n",
    "audio_features_df.drop_duplicates(inplace=True)\n",
    "\n",
    "df_w_audio_ft = pd.merge(left=df_final,\n",
    "                        right=audio_features_df,\n",
    "                        how='inner',\n",
    "                        left_on='song_id',\n",
    "                        right_on='id')\n",
    "df_w_audio_ft"
   ]
  },
  {
   "cell_type": "markdown",
   "id": "6c7846b0",
   "metadata": {},
   "source": [
    "#save to csv:\n",
    "df_w_audio_ft.to_csv('curated_song_and_features.csv')"
   ]
  },
  {
   "cell_type": "markdown",
   "id": "4178cfe0",
   "metadata": {},
   "source": [
    "# Lab 4 - Pull features of input song & clustering model"
   ]
  },
  {
   "cell_type": "code",
   "execution_count": 4,
   "id": "015544e1",
   "metadata": {},
   "outputs": [],
   "source": [
    "data = pd.read_csv('curated_song_and_features.csv')\n",
    "data.drop(['Unnamed: 0'],axis=1, inplace=True)\n",
    "X = data[['danceability','energy','key','loudness','mode','speechiness','acousticness','instrumentalness','liveness','valence','tempo']]\n",
    "\n",
    "from sklearn.preprocessing import MinMaxScaler\n",
    "scaler = MinMaxScaler().fit(X)\n",
    "X_prep = scaler.transform(X)\n",
    "#----------------------------------------------------------Selecting K---------------------------------------------------------------\n",
    "# import numpy as np\n",
    "# K = range(2, 20)\n",
    "# inertia = []\n",
    "\n",
    "# for k in K:\n",
    "#     kmeans = KMeans(n_clusters=k,\n",
    "#                 init=\"random\",\n",
    "#                 n_init= 100,  # try with 1, 4, 8, 20, 30, 100...\n",
    "#                 max_iter=100,\n",
    "#                 tol=0,\n",
    "#                 random_state=42)\n",
    "#     kmeans.fit(X_prep)\n",
    "#     inertia.append(kmeans.inertia_)\n",
    "\n",
    "# import matplotlib.pyplot as plt\n",
    "# %matplotlib inline\n",
    "\n",
    "# plt.figure(figsize=(16,8))\n",
    "# plt.plot(K, inertia, 'bx-')\n",
    "# plt.xlabel('k')\n",
    "# plt.ylabel('inertia')\n",
    "# plt.xticks(np.arange(min(K), max(K)+1, 1.0))\n",
    "# plt.title('Elbow Method showing the optimal k')\n",
    "\n",
    "# from sklearn.metrics import silhouette_score\n",
    "# K = range(2, 20)\n",
    "# silhouette = []\n",
    "\n",
    "# for k in K:\n",
    "#     kmeans = KMeans(n_clusters=k,\n",
    "#                 init=\"random\",\n",
    "#                 n_init= 100,  # try with 1, 4, 8, 20, 30, 100...\n",
    "#                 max_iter=100,\n",
    "#                 tol=0,\n",
    "#                 random_state=42)\n",
    "#     kmeans.fit(X_prep)\n",
    "#     silhouette.append(silhouette_score(X_prep, kmeans.predict(X_prep)))\n",
    "\n",
    "\n",
    "# plt.figure(figsize=(16,8))\n",
    "# plt.plot(K, silhouette, 'bx-')\n",
    "# plt.xlabel('k')\n",
    "# plt.ylabel('silhouette score')\n",
    "# plt.xticks(np.arange(min(K), max(K)+1, 1.0))\n",
    "# plt.title('Slhouette score showing the optimal k')\n",
    "\n",
    "#---------------------------------------------------------Clustering model-----------------------------------------------------------\n",
    "from sklearn.cluster import KMeans\n",
    "\n",
    "# I chose 7 for K\n",
    "kmeans = KMeans(n_clusters=7, init=\"random\",\n",
    "                n_init= 100,\n",
    "                max_iter=100,\n",
    "                tol=0,\n",
    "                random_state=42) \n",
    "kmeans.fit(X_prep)\n",
    "\n",
    "# Predicting / assigning the clusters:\n",
    "clusters = kmeans.predict(X_prep)\n",
    "\n",
    "# Check the size of the clusters\n",
    "# pd.Series(clusters).value_counts()\n",
    "\n",
    "# add to the big dataframe of songs and features\n",
    "data['cluster'] = clusters\n",
    "\n",
    "# another dataframe just for ease of use\n",
    "songs_server = data[['song_name','name','cluster']]\n",
    "\n",
    "import spotipy\n",
    "from spotipy.oauth2 import SpotifyClientCredentials\n",
    "secrets_file = open(\"spotifyclientsecret.txt\",\"r\")\n",
    "string = secrets_file.read()\n",
    "secrets_dict={}\n",
    "for line in string.split('\\n'):\n",
    "    if len(line) > 0:\n",
    "        #print(line.split(':'))\n",
    "        secrets_dict[line.split(':')[0]]=line.split(':')[1].strip()\n",
    "\n",
    "sp = spotipy.Spotify(auth_manager=SpotifyClientCredentials(client_id=secrets_dict['clientid'],\n",
    "                                                           client_secret=secrets_dict['clientsecret'])) # establish connection to Spotify Web api\n",
    "\n",
    "#--------------------------------------------------------Song Feature retriever -------------------------------------------------------\n",
    "\n",
    "def retrive_pred_feature(song):\n",
    "    query = str(song)\n",
    "    qres = sp.search(q=query, limit=1)\n",
    "    \n",
    "    song_id = qres[\"tracks\"][\"items\"][0]['id']\n",
    "    \n",
    "    featdf = pd.DataFrame(sp.audio_features(song_id))\n",
    "    resdf = featdf[['danceability','energy','key','loudness','mode','speechiness','acousticness','instrumentalness','liveness','valence','tempo']]\n",
    "    return resdf\n",
    "\n",
    "#---------------------------------------------------------Cluster recommender--------------------------------------------------------\n",
    "\n",
    "def cluster_recommend(song):\n",
    "    from random import randint\n",
    "    song_features = retrive_pred_feature(song)\n",
    "    \n",
    "    X_pred = scaler.transform(song_features)\n",
    "    \n",
    "    res_cluster = kmeans.predict(X_pred) # the result cluster (just a number) for the input song is here\n",
    "    \n",
    "    same_cluster_songs = songs_server[songs_server['cluster'] == res_cluster[0]].reset_index(drop=True) # gets dataframe of all songs in same cluster\n",
    "    \n",
    "    randindex = randint(0, len(same_cluster_songs))\n",
    "    output_song = same_cluster_songs.iloc[randindex,:]\n",
    "    \n",
    "    output = output_song[['song_name','name']]\n",
    "    print('|Song:|  '+output[0]+'  |Artist:|  '+output[1])\n",
    "    \n",
    "    return output\n",
    "\n",
    "#---------------------------------------------------------Compleat recommender-------------------------------------------------------\n",
    "\n",
    "def recommender(x=None):\n",
    "    if x == None:\n",
    "        song = input('Enter a song to hear our recommendation: ')\n",
    "    else:\n",
    "        song = x\n",
    "    \n",
    "    song_name = str(song).lower() #This makes all the input a lowercase string value, as far as I am concerned, this should not cause any problem and makes it convenient for comparison\n",
    "    if song_name in [name.lower() for name in list(t100['song'])]:\n",
    "        recommend = t100.sample()\n",
    "        vox = 'You may also like ' + recommend['song'].iloc[0] + ' by ' + recommend['artist'].iloc[0] + ' from the current greatst hits.'\n",
    "        print(vox)\n",
    "        return vox\n",
    "    else:\n",
    "        ot = cluster_recommend(song_name)\n",
    "        return ot"
   ]
  },
  {
   "cell_type": "code",
   "execution_count": 6,
   "id": "f78f4f18",
   "metadata": {},
   "outputs": [
    {
     "name": "stdout",
     "output_type": "stream",
     "text": [
      "Enter a song to hear our recommendation: suh dude\n",
      "|Song:|  Youth  |Artist:|  Daughter\n"
     ]
    },
    {
     "data": {
      "text/plain": [
       "song_name       Youth\n",
       "name         Daughter\n",
       "Name: 685, dtype: object"
      ]
     },
     "execution_count": 6,
     "metadata": {},
     "output_type": "execute_result"
    }
   ],
   "source": [
    "recommender()"
   ]
  },
  {
   "cell_type": "code",
   "execution_count": null,
   "id": "936209aa",
   "metadata": {},
   "outputs": [],
   "source": []
  }
 ],
 "metadata": {
  "kernelspec": {
   "display_name": "Python 3 (ipykernel)",
   "language": "python",
   "name": "python3"
  },
  "language_info": {
   "codemirror_mode": {
    "name": "ipython",
    "version": 3
   },
   "file_extension": ".py",
   "mimetype": "text/x-python",
   "name": "python",
   "nbconvert_exporter": "python",
   "pygments_lexer": "ipython3",
   "version": "3.11.5"
  }
 },
 "nbformat": 4,
 "nbformat_minor": 5
}
