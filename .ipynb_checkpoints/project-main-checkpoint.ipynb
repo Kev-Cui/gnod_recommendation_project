{
 "cells": [
  {
   "cell_type": "markdown",
   "id": "ed0633e6",
   "metadata": {},
   "source": [
    "# Lab 1 - Web Scraping Single Page"
   ]
  },
  {
   "cell_type": "code",
   "execution_count": 1,
   "id": "c4259803",
   "metadata": {},
   "outputs": [],
   "source": [
    "from bs4 import BeautifulSoup\n",
    "import requests\n",
    "import pandas as pd\n",
    "from pandas import json_normalize"
   ]
  },
  {
   "cell_type": "code",
   "execution_count": 2,
   "id": "5f01e099",
   "metadata": {},
   "outputs": [],
   "source": [
    "#request and make soup\n",
    "url = \"https://www.popvortex.com/music/charts/top-100-songs.php\"\n",
    "soup = BeautifulSoup(requests.get(url).content, 'html.parser')"
   ]
  },
  {
   "cell_type": "code",
   "execution_count": 3,
   "id": "11be0786",
   "metadata": {},
   "outputs": [],
   "source": [
    "#the page structure is strait forward, two for loops should create two lists of songs and artists in the correct and matching order\n",
    "songs = []\n",
    "artists = []\n",
    "\n",
    "for artist in soup.select('em.artist'):\n",
    "    artists.append(artist.text)\n",
    "    \n",
    "for song in soup.select('cite.title'):\n",
    "    songs.append(song.text)"
   ]
  },
  {
   "cell_type": "code",
   "execution_count": 4,
   "id": "e6441304",
   "metadata": {},
   "outputs": [
    {
     "data": {
      "text/html": [
       "<div>\n",
       "<style scoped>\n",
       "    .dataframe tbody tr th:only-of-type {\n",
       "        vertical-align: middle;\n",
       "    }\n",
       "\n",
       "    .dataframe tbody tr th {\n",
       "        vertical-align: top;\n",
       "    }\n",
       "\n",
       "    .dataframe thead th {\n",
       "        text-align: right;\n",
       "    }\n",
       "</style>\n",
       "<table border=\"1\" class=\"dataframe\">\n",
       "  <thead>\n",
       "    <tr style=\"text-align: right;\">\n",
       "      <th></th>\n",
       "      <th>song</th>\n",
       "      <th>artist</th>\n",
       "    </tr>\n",
       "  </thead>\n",
       "  <tbody>\n",
       "    <tr>\n",
       "      <th>0</th>\n",
       "      <td>TEXAS HOLD 'EM</td>\n",
       "      <td>Beyoncé</td>\n",
       "    </tr>\n",
       "    <tr>\n",
       "      <th>1</th>\n",
       "      <td>Lose Control</td>\n",
       "      <td>Teddy Swims</td>\n",
       "    </tr>\n",
       "    <tr>\n",
       "      <th>2</th>\n",
       "      <td>Beautiful Things</td>\n",
       "      <td>Benson Boone</td>\n",
       "    </tr>\n",
       "    <tr>\n",
       "      <th>3</th>\n",
       "      <td>TEXAS HOLD 'EM</td>\n",
       "      <td>Beyoncé</td>\n",
       "    </tr>\n",
       "    <tr>\n",
       "      <th>4</th>\n",
       "      <td>dont let me go</td>\n",
       "      <td>mgk</td>\n",
       "    </tr>\n",
       "    <tr>\n",
       "      <th>...</th>\n",
       "      <td>...</td>\n",
       "      <td>...</td>\n",
       "    </tr>\n",
       "    <tr>\n",
       "      <th>95</th>\n",
       "      <td>Standing Next to You (Instrumental)</td>\n",
       "      <td>Jung Kook</td>\n",
       "    </tr>\n",
       "    <tr>\n",
       "      <th>96</th>\n",
       "      <td>CARNIVAL</td>\n",
       "      <td>¥$, Kanye West &amp; Ty Dolla $ign</td>\n",
       "    </tr>\n",
       "    <tr>\n",
       "      <th>97</th>\n",
       "      <td>Wondering Why</td>\n",
       "      <td>The Red Clay Strays</td>\n",
       "    </tr>\n",
       "    <tr>\n",
       "      <th>98</th>\n",
       "      <td>Lover</td>\n",
       "      <td>Taylor Swift</td>\n",
       "    </tr>\n",
       "    <tr>\n",
       "      <th>99</th>\n",
       "      <td>Is It Over Now? (Taylor's Version) [From The V...</td>\n",
       "      <td>Taylor Swift</td>\n",
       "    </tr>\n",
       "  </tbody>\n",
       "</table>\n",
       "<p>100 rows × 2 columns</p>\n",
       "</div>"
      ],
      "text/plain": [
       "                                                 song  \\\n",
       "0                                      TEXAS HOLD 'EM   \n",
       "1                                        Lose Control   \n",
       "2                                    Beautiful Things   \n",
       "3                                      TEXAS HOLD 'EM   \n",
       "4                                      dont let me go   \n",
       "..                                                ...   \n",
       "95                Standing Next to You (Instrumental)   \n",
       "96                                           CARNIVAL   \n",
       "97                                      Wondering Why   \n",
       "98                                              Lover   \n",
       "99  Is It Over Now? (Taylor's Version) [From The V...   \n",
       "\n",
       "                            artist  \n",
       "0                          Beyoncé  \n",
       "1                      Teddy Swims  \n",
       "2                     Benson Boone  \n",
       "3                          Beyoncé  \n",
       "4                              mgk  \n",
       "..                             ...  \n",
       "95                       Jung Kook  \n",
       "96  ¥$, Kanye West & Ty Dolla $ign  \n",
       "97             The Red Clay Strays  \n",
       "98                    Taylor Swift  \n",
       "99                    Taylor Swift  \n",
       "\n",
       "[100 rows x 2 columns]"
      ]
     },
     "execution_count": 4,
     "metadata": {},
     "output_type": "execute_result"
    }
   ],
   "source": [
    "#turn to pandas dataframe and do a quick check\n",
    "\n",
    "top100songs = pd.DataFrame({\"song\":songs,\"artist\":artists})\n",
    "\n",
    "top100songs"
   ]
  },
  {
   "cell_type": "code",
   "execution_count": 5,
   "id": "d6db45c6",
   "metadata": {},
   "outputs": [
    {
     "data": {
      "text/html": [
       "<div>\n",
       "<style scoped>\n",
       "    .dataframe tbody tr th:only-of-type {\n",
       "        vertical-align: middle;\n",
       "    }\n",
       "\n",
       "    .dataframe tbody tr th {\n",
       "        vertical-align: top;\n",
       "    }\n",
       "\n",
       "    .dataframe thead th {\n",
       "        text-align: right;\n",
       "    }\n",
       "</style>\n",
       "<table border=\"1\" class=\"dataframe\">\n",
       "  <thead>\n",
       "    <tr style=\"text-align: right;\">\n",
       "      <th></th>\n",
       "      <th>song</th>\n",
       "      <th>artist</th>\n",
       "      <th>place</th>\n",
       "    </tr>\n",
       "  </thead>\n",
       "  <tbody>\n",
       "    <tr>\n",
       "      <th>0</th>\n",
       "      <td>TEXAS HOLD 'EM</td>\n",
       "      <td>Beyoncé</td>\n",
       "      <td>1</td>\n",
       "    </tr>\n",
       "    <tr>\n",
       "      <th>1</th>\n",
       "      <td>Lose Control</td>\n",
       "      <td>Teddy Swims</td>\n",
       "      <td>2</td>\n",
       "    </tr>\n",
       "    <tr>\n",
       "      <th>2</th>\n",
       "      <td>Beautiful Things</td>\n",
       "      <td>Benson Boone</td>\n",
       "      <td>3</td>\n",
       "    </tr>\n",
       "    <tr>\n",
       "      <th>3</th>\n",
       "      <td>TEXAS HOLD 'EM</td>\n",
       "      <td>Beyoncé</td>\n",
       "      <td>4</td>\n",
       "    </tr>\n",
       "    <tr>\n",
       "      <th>4</th>\n",
       "      <td>dont let me go</td>\n",
       "      <td>mgk</td>\n",
       "      <td>5</td>\n",
       "    </tr>\n",
       "    <tr>\n",
       "      <th>...</th>\n",
       "      <td>...</td>\n",
       "      <td>...</td>\n",
       "      <td>...</td>\n",
       "    </tr>\n",
       "    <tr>\n",
       "      <th>95</th>\n",
       "      <td>Standing Next to You (Instrumental)</td>\n",
       "      <td>Jung Kook</td>\n",
       "      <td>96</td>\n",
       "    </tr>\n",
       "    <tr>\n",
       "      <th>96</th>\n",
       "      <td>CARNIVAL</td>\n",
       "      <td>¥$, Kanye West &amp; Ty Dolla $ign</td>\n",
       "      <td>97</td>\n",
       "    </tr>\n",
       "    <tr>\n",
       "      <th>97</th>\n",
       "      <td>Wondering Why</td>\n",
       "      <td>The Red Clay Strays</td>\n",
       "      <td>98</td>\n",
       "    </tr>\n",
       "    <tr>\n",
       "      <th>98</th>\n",
       "      <td>Lover</td>\n",
       "      <td>Taylor Swift</td>\n",
       "      <td>99</td>\n",
       "    </tr>\n",
       "    <tr>\n",
       "      <th>99</th>\n",
       "      <td>Is It Over Now? (Taylor's Version) [From The V...</td>\n",
       "      <td>Taylor Swift</td>\n",
       "      <td>100</td>\n",
       "    </tr>\n",
       "  </tbody>\n",
       "</table>\n",
       "<p>100 rows × 3 columns</p>\n",
       "</div>"
      ],
      "text/plain": [
       "                                                 song  \\\n",
       "0                                      TEXAS HOLD 'EM   \n",
       "1                                        Lose Control   \n",
       "2                                    Beautiful Things   \n",
       "3                                      TEXAS HOLD 'EM   \n",
       "4                                      dont let me go   \n",
       "..                                                ...   \n",
       "95                Standing Next to You (Instrumental)   \n",
       "96                                           CARNIVAL   \n",
       "97                                      Wondering Why   \n",
       "98                                              Lover   \n",
       "99  Is It Over Now? (Taylor's Version) [From The V...   \n",
       "\n",
       "                            artist  place  \n",
       "0                          Beyoncé      1  \n",
       "1                      Teddy Swims      2  \n",
       "2                     Benson Boone      3  \n",
       "3                          Beyoncé      4  \n",
       "4                              mgk      5  \n",
       "..                             ...    ...  \n",
       "95                       Jung Kook     96  \n",
       "96  ¥$, Kanye West & Ty Dolla $ign     97  \n",
       "97             The Red Clay Strays     98  \n",
       "98                    Taylor Swift     99  \n",
       "99                    Taylor Swift    100  \n",
       "\n",
       "[100 rows x 3 columns]"
      ]
     },
     "execution_count": 5,
     "metadata": {},
     "output_type": "execute_result"
    }
   ],
   "source": [
    "#just create another dataframe with the songs' place in another column\n",
    "t100 = top100songs.copy()\n",
    "t100['place'] = range(1,len(t100)+1)\n",
    "t100"
   ]
  },
  {
   "cell_type": "markdown",
   "id": "406c7a1d",
   "metadata": {},
   "source": [
    "# Lab 2 - GNOD Part 2"
   ]
  },
  {
   "cell_type": "code",
   "execution_count": 6,
   "id": "6dbb128e",
   "metadata": {},
   "outputs": [
    {
     "data": {
      "text/plain": [
       "\"Let's Go\""
      ]
     },
     "execution_count": 6,
     "metadata": {},
     "output_type": "execute_result"
    }
   ],
   "source": [
    "t100.sample()['song'].iloc[0]"
   ]
  },
  {
   "cell_type": "code",
   "execution_count": 7,
   "id": "ceb421f9",
   "metadata": {},
   "outputs": [],
   "source": [
    "def arrogant_recommender(song):\n",
    "    song_name = str(song).lower() #This makes all the input a lowercase string value, as far as I am concerned, this should not cause any problem and makes it convenient for comparison\n",
    "    if song_name in [name.lower() for name in list(t100['song'])]:\n",
    "        recommend = t100.sample()\n",
    "        vox = 'You may also like ' + recommend['song'].iloc[0] + ' by ' + recommend['artist'].iloc[0] + ' from the current greatst hits.'\n",
    "        print(vox)\n",
    "        return vox\n",
    "    else:\n",
    "        vox = 'We accept hot songs only, get lost.'\n",
    "        print(vox)\n",
    "        return vox"
   ]
  },
  {
   "cell_type": "code",
   "execution_count": 8,
   "id": "dc0e4cfe",
   "metadata": {},
   "outputs": [
    {
     "name": "stdout",
     "output_type": "stream",
     "text": [
      "We accept hot songs only, get lost.\n",
      "You may also like 23 by Chayce Beckham from the current greatst hits.\n"
     ]
    },
    {
     "data": {
      "text/plain": [
       "'You may also like 23 by Chayce Beckham from the current greatst hits.'"
      ]
     },
     "execution_count": 8,
     "metadata": {},
     "output_type": "execute_result"
    }
   ],
   "source": [
    "arrogant_recommender('kek')\n",
    "arrogant_recommender('GREEDY')"
   ]
  },
  {
   "cell_type": "markdown",
   "id": "e626aa51",
   "metadata": {},
   "source": [
    "# Lab 3 - Big Collection of Songs & Audio Features"
   ]
  },
  {
   "cell_type": "markdown",
   "id": "8a616306",
   "metadata": {},
   "source": [
    "### Converted to Markdown to prevent from running, the output dataset is saved as a .csv file in the working directory\n",
    "#### See output from previous version with commit message containing \"Solved Lab Gnod Part 3\""
   ]
  },
  {
   "cell_type": "markdown",
   "id": "5d09400f",
   "metadata": {},
   "source": [
    "import spotipy\n",
    "from spotipy.oauth2 import SpotifyClientCredentials\n",
    "secrets_file = open(\"spotifyclientsecret.txt\",\"r\")\n",
    "string = secrets_file.read()\n",
    "secrets_dict={}\n",
    "for line in string.split('\\n'):\n",
    "    if len(line) > 0:\n",
    "        #print(line.split(':'))\n",
    "        secrets_dict[line.split(':')[0]]=line.split(':')[1].strip()\n",
    "\n",
    "sp = spotipy.Spotify(auth_manager=SpotifyClientCredentials(client_id=secrets_dict['clientid'],\n",
    "                                                           client_secret=secrets_dict['clientsecret'])) # establish connection to Spotify Web api"
   ]
  },
  {
   "cell_type": "markdown",
   "id": "189139ea",
   "metadata": {},
   "source": [
    "from random import randint\n",
    "from time import sleep\n",
    "\n",
    "def get_playlist_tracks(playlist_id):\n",
    "    results = sp.user_playlist_tracks(\"spotify\",playlist_id)\n",
    "    tracks = results['items']\n",
    "    while results['next']!=None:\n",
    "        results = sp.next(results)\n",
    "        tracks = tracks + results['items']\n",
    "        sleep(randint(1,1000)/1000) # respectful nap\n",
    "    return tracks"
   ]
  },
  {
   "cell_type": "markdown",
   "id": "106b3762",
   "metadata": {},
   "source": [
    "all_tracks = get_playlist_tracks(\"6yPiKpy7evrwvZodByKvM9\")\n",
    "len(all_tracks)"
   ]
  },
  {
   "cell_type": "markdown",
   "id": "c475e74a",
   "metadata": {},
   "source": [
    "tracks = json_normalize(all_tracks)\n",
    "artists_df = pd.DataFrame(columns=['href', 'id', 'name', 'type', 'uri', 'external_urls.spotify','song_id', 'song_name', 'popularity' ])\n",
    "for i in tracks.index:\n",
    "    artists_for_song = json_normalize(tracks.iloc[i]['track.artists'])\n",
    "    artists_for_song['song_id']    = tracks.iloc[i]['track.id']         # we want to keep song_id, it is the sae for all artists\n",
    "    artists_for_song['song_name']  = tracks.iloc[i]['track.name']       # we want to keep song_name, it is the sae for all artists\n",
    "    artists_for_song['popularity'] = tracks.iloc[i]['track.popularity'] # same for popularity   \n",
    "    artists_df = pd.concat([artists_df, artists_for_song], axis=0)\n",
    "\n",
    "df_final = artists_df[['song_name', 'name', 'song_id', 'popularity']].reset_index(drop=True)\n",
    "df_final"
   ]
  },
  {
   "cell_type": "markdown",
   "id": "59b1cb20",
   "metadata": {},
   "source": [
    "#Audio feature:"
   ]
  },
  {
   "cell_type": "markdown",
   "id": "3a1147fb",
   "metadata": {},
   "source": [
    "df_final['song_id'].isnull().sum() #??????"
   ]
  },
  {
   "cell_type": "markdown",
   "id": "8648db65",
   "metadata": {},
   "source": [
    "df_final.dropna(inplace=True) # can't be bothered to investigate, just drop na\n",
    "\n",
    "chunks = [(i, i+100) for i in range(0, len(df_final), 100)]\n",
    "\n",
    "audio_features_list = []\n",
    "for chunk in chunks:\n",
    "    id_list100 = df_final['song_id'][chunk[0]:chunk[1]]\n",
    "    audio_features_list = audio_features_list + sp.audio_features(id_list100)\n",
    "    sleep(randint(1,1000)/1000)\n",
    "len(audio_features_list)"
   ]
  },
  {
   "cell_type": "markdown",
   "id": "a4d3c54b",
   "metadata": {
    "scrolled": true
   },
   "source": [
    "audio_features_df = pd.DataFrame(audio_features_list)\n",
    "audio_features_df.drop_duplicates(inplace=True)\n",
    "\n",
    "df_w_audio_ft = pd.merge(left=df_final,\n",
    "                        right=audio_features_df,\n",
    "                        how='inner',\n",
    "                        left_on='song_id',\n",
    "                        right_on='id')\n",
    "df_w_audio_ft"
   ]
  },
  {
   "cell_type": "markdown",
   "id": "6c7846b0",
   "metadata": {},
   "source": [
    "#save to csv:\n",
    "df_w_audio_ft.to_csv('curated_song_and_features.csv')"
   ]
  },
  {
   "cell_type": "markdown",
   "id": "4178cfe0",
   "metadata": {},
   "source": [
    "# Lab 4 - Pull features of input song & clustering model"
   ]
  },
  {
   "cell_type": "code",
   "execution_count": null,
   "id": "aae7ff6d",
   "metadata": {},
   "outputs": [],
   "source": [
    "# note: sp.query() for getting info for one song"
   ]
  },
  {
   "cell_type": "markdown",
   "id": "bef1806c",
   "metadata": {},
   "source": [
    "Clustering model:"
   ]
  },
  {
   "cell_type": "code",
   "execution_count": 29,
   "id": "15b2a674",
   "metadata": {},
   "outputs": [],
   "source": [
    "data = pd.read_csv('curated_song_and_features.csv')\n",
    "data.drop(['Unnamed: 0'],axis=1, inplace=True)\n",
    "X = data[['danceability','energy','key','loudness','mode','speechiness','acousticness','instrumentalness','liveness','valence','tempo']]"
   ]
  },
  {
   "cell_type": "code",
   "execution_count": 90,
   "id": "3f09a6e4",
   "metadata": {},
   "outputs": [],
   "source": [
    "from sklearn.preprocessing import MinMaxScaler\n",
    "scaler = MinMaxScaler().fit(X)\n",
    "X_prep = scaler.transform(X)"
   ]
  },
  {
   "cell_type": "code",
   "execution_count": 17,
   "id": "52e46c54",
   "metadata": {},
   "outputs": [
    {
     "data": {
      "text/plain": [
       "Text(0.5, 1.0, 'Elbow Method showing the optimal k')"
      ]
     },
     "execution_count": 17,
     "metadata": {},
     "output_type": "execute_result"
    },
    {
     "data": {
      "image/png": "[encoded data removed]",
      "text/plain": [
       "<Figure size 1600x800 with 1 Axes>"
      ]
     },
     "metadata": {},
     "output_type": "display_data"
    }
   ],
   "source": [
    "# import numpy as np\n",
    "# K = range(2, 20)\n",
    "# inertia = []\n",
    "\n",
    "# for k in K:\n",
    "#     kmeans = KMeans(n_clusters=k,\n",
    "#                 init=\"random\",\n",
    "#                 n_init= 100,  # try with 1, 4, 8, 20, 30, 100...\n",
    "#                 max_iter=100,\n",
    "#                 tol=0,\n",
    "#                 random_state=42)\n",
    "#     kmeans.fit(X_prep)\n",
    "#     inertia.append(kmeans.inertia_)\n",
    "\n",
    "# import matplotlib.pyplot as plt\n",
    "# %matplotlib inline\n",
    "\n",
    "# plt.figure(figsize=(16,8))\n",
    "# plt.plot(K, inertia, 'bx-')\n",
    "# plt.xlabel('k')\n",
    "# plt.ylabel('inertia')\n",
    "# plt.xticks(np.arange(min(K), max(K)+1, 1.0))\n",
    "# plt.title('Elbow Method showing the optimal k')"
   ]
  },
  {
   "cell_type": "code",
   "execution_count": 18,
   "id": "9ccc27ba",
   "metadata": {},
   "outputs": [
    {
     "data": {
      "text/plain": [
       "Text(0.5, 1.0, 'Slhouette score showing the optimal k')"
      ]
     },
     "execution_count": 18,
     "metadata": {},
     "output_type": "execute_result"
    },
    {
     "data": {
      "image/png": "[encoded data removed]",
      "text/plain": [
       "<Figure size 1600x800 with 1 Axes>"
      ]
     },
     "metadata": {},
     "output_type": "display_data"
    }
   ],
   "source": [
    "# from sklearn.metrics import silhouette_score\n",
    "# K = range(2, 20)\n",
    "# silhouette = []\n",
    "\n",
    "# for k in K:\n",
    "#     kmeans = KMeans(n_clusters=k,\n",
    "#                 init=\"random\",\n",
    "#                 n_init= 100,  # try with 1, 4, 8, 20, 30, 100...\n",
    "#                 max_iter=100,\n",
    "#                 tol=0,\n",
    "#                 random_state=42)\n",
    "#     kmeans.fit(X_prep)\n",
    "#     silhouette.append(silhouette_score(X_prep, kmeans.predict(X_prep)))\n",
    "\n",
    "\n",
    "# plt.figure(figsize=(16,8))\n",
    "# plt.plot(K, silhouette, 'bx-')\n",
    "# plt.xlabel('k')\n",
    "# plt.ylabel('silhouette score')\n",
    "# plt.xticks(np.arange(min(K), max(K)+1, 1.0))\n",
    "# plt.title('Slhouette score showing the optimal k')"
   ]
  },
  {
   "cell_type": "code",
   "execution_count": 40,
   "id": "984f374d",
   "metadata": {},
   "outputs": [
    {
     "data": {
      "text/html": [
       "<style>#sk-container-id-4 {color: black;background-color: white;}#sk-container-id-4 pre{padding: 0;}#sk-container-id-4 div.sk-toggleable {background-color: white;}#sk-container-id-4 label.sk-toggleable__label {cursor: pointer;display: block;width: 100%;margin-bottom: 0;padding: 0.3em;box-sizing: border-box;text-align: center;}#sk-container-id-4 label.sk-toggleable__label-arrow:before {content: \"▸\";float: left;margin-right: 0.25em;color: #696969;}#sk-container-id-4 label.sk-toggleable__label-arrow:hover:before {color: black;}#sk-container-id-4 div.sk-estimator:hover label.sk-toggleable__label-arrow:before {color: black;}#sk-container-id-4 div.sk-toggleable__content {max-height: 0;max-width: 0;overflow: hidden;text-align: left;background-color: #f0f8ff;}#sk-container-id-4 div.sk-toggleable__content pre {margin: 0.2em;color: black;border-radius: 0.25em;background-color: #f0f8ff;}#sk-container-id-4 input.sk-toggleable__control:checked~div.sk-toggleable__content {max-height: 200px;max-width: 100%;overflow: auto;}#sk-container-id-4 input.sk-toggleable__control:checked~label.sk-toggleable__label-arrow:before {content: \"▾\";}#sk-container-id-4 div.sk-estimator input.sk-toggleable__control:checked~label.sk-toggleable__label {background-color: #d4ebff;}#sk-container-id-4 div.sk-label input.sk-toggleable__control:checked~label.sk-toggleable__label {background-color: #d4ebff;}#sk-container-id-4 input.sk-hidden--visually {border: 0;clip: rect(1px 1px 1px 1px);clip: rect(1px, 1px, 1px, 1px);height: 1px;margin: -1px;overflow: hidden;padding: 0;position: absolute;width: 1px;}#sk-container-id-4 div.sk-estimator {font-family: monospace;background-color: #f0f8ff;border: 1px dotted black;border-radius: 0.25em;box-sizing: border-box;margin-bottom: 0.5em;}#sk-container-id-4 div.sk-estimator:hover {background-color: #d4ebff;}#sk-container-id-4 div.sk-parallel-item::after {content: \"\";width: 100%;border-bottom: 1px solid gray;flex-grow: 1;}#sk-container-id-4 div.sk-label:hover label.sk-toggleable__label {background-color: #d4ebff;}#sk-container-id-4 div.sk-serial::before {content: \"\";position: absolute;border-left: 1px solid gray;box-sizing: border-box;top: 0;bottom: 0;left: 50%;z-index: 0;}#sk-container-id-4 div.sk-serial {display: flex;flex-direction: column;align-items: center;background-color: white;padding-right: 0.2em;padding-left: 0.2em;position: relative;}#sk-container-id-4 div.sk-item {position: relative;z-index: 1;}#sk-container-id-4 div.sk-parallel {display: flex;align-items: stretch;justify-content: center;background-color: white;position: relative;}#sk-container-id-4 div.sk-item::before, #sk-container-id-4 div.sk-parallel-item::before {content: \"\";position: absolute;border-left: 1px solid gray;box-sizing: border-box;top: 0;bottom: 0;left: 50%;z-index: -1;}#sk-container-id-4 div.sk-parallel-item {display: flex;flex-direction: column;z-index: 1;position: relative;background-color: white;}#sk-container-id-4 div.sk-parallel-item:first-child::after {align-self: flex-end;width: 50%;}#sk-container-id-4 div.sk-parallel-item:last-child::after {align-self: flex-start;width: 50%;}#sk-container-id-4 div.sk-parallel-item:only-child::after {width: 0;}#sk-container-id-4 div.sk-dashed-wrapped {border: 1px dashed gray;margin: 0 0.4em 0.5em 0.4em;box-sizing: border-box;padding-bottom: 0.4em;background-color: white;}#sk-container-id-4 div.sk-label label {font-family: monospace;font-weight: bold;display: inline-block;line-height: 1.2em;}#sk-container-id-4 div.sk-label-container {text-align: center;}#sk-container-id-4 div.sk-container {/* jupyter's `normalize.less` sets `[hidden] { display: none; }` but bootstrap.min.css set `[hidden] { display: none !important; }` so we also need the `!important` here to be able to override the default hidden behavior on the sphinx rendered scikit-learn.org. See: https://github.com/scikit-learn/scikit-learn/issues/21755 */display: inline-block !important;position: relative;}#sk-container-id-4 div.sk-text-repr-fallback {display: none;}</style><div id=\"sk-container-id-4\" class=\"sk-top-container\"><div class=\"sk-text-repr-fallback\"><pre>KMeans(init=&#x27;random&#x27;, max_iter=100, n_clusters=7, n_init=100, random_state=42,\n",
       "       tol=0)</pre><b>In a Jupyter environment, please rerun this cell to show the HTML representation or trust the notebook. <br />On GitHub, the HTML representation is unable to render, please try loading this page with nbviewer.org.</b></div><div class=\"sk-container\" hidden><div class=\"sk-item\"><div class=\"sk-estimator sk-toggleable\"><input class=\"sk-toggleable__control sk-hidden--visually\" id=\"sk-estimator-id-4\" type=\"checkbox\" checked><label for=\"sk-estimator-id-4\" class=\"sk-toggleable__label sk-toggleable__label-arrow\">KMeans</label><div class=\"sk-toggleable__content\"><pre>KMeans(init=&#x27;random&#x27;, max_iter=100, n_clusters=7, n_init=100, random_state=42,\n",
       "       tol=0)</pre></div></div></div></div></div>"
      ],
      "text/plain": [
       "KMeans(init='random', max_iter=100, n_clusters=7, n_init=100, random_state=42,\n",
       "       tol=0)"
      ]
     },
     "execution_count": 40,
     "metadata": {},
     "output_type": "execute_result"
    }
   ],
   "source": [
    "from sklearn.cluster import KMeans\n",
    "\n",
    "# I chose 7 for K\n",
    "kmeans = KMeans(n_clusters=7, init=\"random\",\n",
    "                n_init= 100,\n",
    "                max_iter=100,\n",
    "                tol=0,\n",
    "                random_state=42) \n",
    "kmeans.fit(X_prep)"
   ]
  },
  {
   "cell_type": "code",
   "execution_count": 41,
   "id": "7e9d74f1",
   "metadata": {},
   "outputs": [
    {
     "data": {
      "text/plain": [
       "1    2666\n",
       "4    2477\n",
       "3    1855\n",
       "5    1612\n",
       "6    1562\n",
       "0     883\n",
       "2     716\n",
       "Name: count, dtype: int64"
      ]
     },
     "execution_count": 41,
     "metadata": {},
     "output_type": "execute_result"
    }
   ],
   "source": [
    "# Predicting / assigning the clusters:\n",
    "clusters = kmeans.predict(X_prep)\n",
    "\n",
    "# Check the size of the clusters\n",
    "pd.Series(clusters).value_counts()"
   ]
  },
  {
   "cell_type": "code",
   "execution_count": 42,
   "id": "c9d39ffb",
   "metadata": {},
   "outputs": [],
   "source": [
    "# add to the big dataframe of songs and features\n",
    "data['cluster'] = clusters"
   ]
  },
  {
   "cell_type": "code",
   "execution_count": 45,
   "id": "a40d4809",
   "metadata": {},
   "outputs": [
    {
     "data": {
      "text/html": [
       "<div>\n",
       "<style scoped>\n",
       "    .dataframe tbody tr th:only-of-type {\n",
       "        vertical-align: middle;\n",
       "    }\n",
       "\n",
       "    .dataframe tbody tr th {\n",
       "        vertical-align: top;\n",
       "    }\n",
       "\n",
       "    .dataframe thead th {\n",
       "        text-align: right;\n",
       "    }\n",
       "</style>\n",
       "<table border=\"1\" class=\"dataframe\">\n",
       "  <thead>\n",
       "    <tr style=\"text-align: right;\">\n",
       "      <th></th>\n",
       "      <th>song_name</th>\n",
       "      <th>name</th>\n",
       "      <th>song_id</th>\n",
       "      <th>popularity</th>\n",
       "      <th>danceability</th>\n",
       "      <th>energy</th>\n",
       "      <th>key</th>\n",
       "      <th>loudness</th>\n",
       "      <th>mode</th>\n",
       "      <th>speechiness</th>\n",
       "      <th>...</th>\n",
       "      <th>valence</th>\n",
       "      <th>tempo</th>\n",
       "      <th>type</th>\n",
       "      <th>id</th>\n",
       "      <th>uri</th>\n",
       "      <th>track_href</th>\n",
       "      <th>analysis_url</th>\n",
       "      <th>duration_ms</th>\n",
       "      <th>time_signature</th>\n",
       "      <th>cluster</th>\n",
       "    </tr>\n",
       "  </thead>\n",
       "  <tbody>\n",
       "    <tr>\n",
       "      <th>0</th>\n",
       "      <td>2K</td>\n",
       "      <td>Nosaj Thing</td>\n",
       "      <td>33xMbeHzmWd6Od0BmLZEUs</td>\n",
       "      <td>0</td>\n",
       "      <td>0.310</td>\n",
       "      <td>0.445</td>\n",
       "      <td>7</td>\n",
       "      <td>-13.355</td>\n",
       "      <td>0</td>\n",
       "      <td>0.0863</td>\n",
       "      <td>...</td>\n",
       "      <td>0.122</td>\n",
       "      <td>95.360</td>\n",
       "      <td>audio_features</td>\n",
       "      <td>33xMbeHzmWd6Od0BmLZEUs</td>\n",
       "      <td>spotify:track:33xMbeHzmWd6Od0BmLZEUs</td>\n",
       "      <td>https://api.spotify.com/v1/tracks/33xMbeHzmWd6...</td>\n",
       "      <td>https://api.spotify.com/v1/audio-analysis/33xM...</td>\n",
       "      <td>152560</td>\n",
       "      <td>3</td>\n",
       "      <td>3</td>\n",
       "    </tr>\n",
       "    <tr>\n",
       "      <th>1</th>\n",
       "      <td>4 Billion Souls</td>\n",
       "      <td>The Doors</td>\n",
       "      <td>3UnyplmZaq547hwsfOR5yy</td>\n",
       "      <td>26</td>\n",
       "      <td>0.419</td>\n",
       "      <td>0.565</td>\n",
       "      <td>5</td>\n",
       "      <td>-11.565</td>\n",
       "      <td>1</td>\n",
       "      <td>0.0347</td>\n",
       "      <td>...</td>\n",
       "      <td>0.648</td>\n",
       "      <td>151.277</td>\n",
       "      <td>audio_features</td>\n",
       "      <td>3UnyplmZaq547hwsfOR5yy</td>\n",
       "      <td>spotify:track:3UnyplmZaq547hwsfOR5yy</td>\n",
       "      <td>https://api.spotify.com/v1/tracks/3UnyplmZaq54...</td>\n",
       "      <td>https://api.spotify.com/v1/audio-analysis/3Uny...</td>\n",
       "      <td>197707</td>\n",
       "      <td>4</td>\n",
       "      <td>1</td>\n",
       "    </tr>\n",
       "    <tr>\n",
       "      <th>2</th>\n",
       "      <td>4 Minute Warning</td>\n",
       "      <td>Radiohead</td>\n",
       "      <td>1w8QCSDH4QobcQeT4uMKLm</td>\n",
       "      <td>0</td>\n",
       "      <td>0.354</td>\n",
       "      <td>0.302</td>\n",
       "      <td>9</td>\n",
       "      <td>-13.078</td>\n",
       "      <td>1</td>\n",
       "      <td>0.0326</td>\n",
       "      <td>...</td>\n",
       "      <td>0.223</td>\n",
       "      <td>123.753</td>\n",
       "      <td>audio_features</td>\n",
       "      <td>1w8QCSDH4QobcQeT4uMKLm</td>\n",
       "      <td>spotify:track:1w8QCSDH4QobcQeT4uMKLm</td>\n",
       "      <td>https://api.spotify.com/v1/tracks/1w8QCSDH4Qob...</td>\n",
       "      <td>https://api.spotify.com/v1/audio-analysis/1w8Q...</td>\n",
       "      <td>244285</td>\n",
       "      <td>4</td>\n",
       "      <td>5</td>\n",
       "    </tr>\n",
       "    <tr>\n",
       "      <th>3</th>\n",
       "      <td>7 Element</td>\n",
       "      <td>Vitas</td>\n",
       "      <td>7J9mBHG4J2eIfDAv5BehKA</td>\n",
       "      <td>0</td>\n",
       "      <td>0.727</td>\n",
       "      <td>0.785</td>\n",
       "      <td>5</td>\n",
       "      <td>-6.707</td>\n",
       "      <td>0</td>\n",
       "      <td>0.0603</td>\n",
       "      <td>...</td>\n",
       "      <td>0.960</td>\n",
       "      <td>129.649</td>\n",
       "      <td>audio_features</td>\n",
       "      <td>7J9mBHG4J2eIfDAv5BehKA</td>\n",
       "      <td>spotify:track:7J9mBHG4J2eIfDAv5BehKA</td>\n",
       "      <td>https://api.spotify.com/v1/tracks/7J9mBHG4J2eI...</td>\n",
       "      <td>https://api.spotify.com/v1/audio-analysis/7J9m...</td>\n",
       "      <td>249940</td>\n",
       "      <td>4</td>\n",
       "      <td>6</td>\n",
       "    </tr>\n",
       "    <tr>\n",
       "      <th>4</th>\n",
       "      <td>#9 Dream</td>\n",
       "      <td>R.E.M.</td>\n",
       "      <td>1VZedwJj1gyi88WFRhfThb</td>\n",
       "      <td>6</td>\n",
       "      <td>0.571</td>\n",
       "      <td>0.724</td>\n",
       "      <td>0</td>\n",
       "      <td>-5.967</td>\n",
       "      <td>1</td>\n",
       "      <td>0.0260</td>\n",
       "      <td>...</td>\n",
       "      <td>0.385</td>\n",
       "      <td>116.755</td>\n",
       "      <td>audio_features</td>\n",
       "      <td>1VZedwJj1gyi88WFRhfThb</td>\n",
       "      <td>spotify:track:1VZedwJj1gyi88WFRhfThb</td>\n",
       "      <td>https://api.spotify.com/v1/tracks/1VZedwJj1gyi...</td>\n",
       "      <td>https://api.spotify.com/v1/audio-analysis/1VZe...</td>\n",
       "      <td>278320</td>\n",
       "      <td>4</td>\n",
       "      <td>4</td>\n",
       "    </tr>\n",
       "  </tbody>\n",
       "</table>\n",
       "<p>5 rows × 23 columns</p>\n",
       "</div>"
      ],
      "text/plain": [
       "          song_name         name                 song_id  popularity  \\\n",
       "0                2K  Nosaj Thing  33xMbeHzmWd6Od0BmLZEUs           0   \n",
       "1   4 Billion Souls    The Doors  3UnyplmZaq547hwsfOR5yy          26   \n",
       "2  4 Minute Warning    Radiohead  1w8QCSDH4QobcQeT4uMKLm           0   \n",
       "3         7 Element        Vitas  7J9mBHG4J2eIfDAv5BehKA           0   \n",
       "4          #9 Dream       R.E.M.  1VZedwJj1gyi88WFRhfThb           6   \n",
       "\n",
       "   danceability  energy  key  loudness  mode  speechiness  ...  valence  \\\n",
       "0         0.310   0.445    7   -13.355     0       0.0863  ...    0.122   \n",
       "1         0.419   0.565    5   -11.565     1       0.0347  ...    0.648   \n",
       "2         0.354   0.302    9   -13.078     1       0.0326  ...    0.223   \n",
       "3         0.727   0.785    5    -6.707     0       0.0603  ...    0.960   \n",
       "4         0.571   0.724    0    -5.967     1       0.0260  ...    0.385   \n",
       "\n",
       "     tempo            type                      id  \\\n",
       "0   95.360  audio_features  33xMbeHzmWd6Od0BmLZEUs   \n",
       "1  151.277  audio_features  3UnyplmZaq547hwsfOR5yy   \n",
       "2  123.753  audio_features  1w8QCSDH4QobcQeT4uMKLm   \n",
       "3  129.649  audio_features  7J9mBHG4J2eIfDAv5BehKA   \n",
       "4  116.755  audio_features  1VZedwJj1gyi88WFRhfThb   \n",
       "\n",
       "                                    uri  \\\n",
       "0  spotify:track:33xMbeHzmWd6Od0BmLZEUs   \n",
       "1  spotify:track:3UnyplmZaq547hwsfOR5yy   \n",
       "2  spotify:track:1w8QCSDH4QobcQeT4uMKLm   \n",
       "3  spotify:track:7J9mBHG4J2eIfDAv5BehKA   \n",
       "4  spotify:track:1VZedwJj1gyi88WFRhfThb   \n",
       "\n",
       "                                          track_href  \\\n",
       "0  https://api.spotify.com/v1/tracks/33xMbeHzmWd6...   \n",
       "1  https://api.spotify.com/v1/tracks/3UnyplmZaq54...   \n",
       "2  https://api.spotify.com/v1/tracks/1w8QCSDH4Qob...   \n",
       "3  https://api.spotify.com/v1/tracks/7J9mBHG4J2eI...   \n",
       "4  https://api.spotify.com/v1/tracks/1VZedwJj1gyi...   \n",
       "\n",
       "                                        analysis_url duration_ms  \\\n",
       "0  https://api.spotify.com/v1/audio-analysis/33xM...      152560   \n",
       "1  https://api.spotify.com/v1/audio-analysis/3Uny...      197707   \n",
       "2  https://api.spotify.com/v1/audio-analysis/1w8Q...      244285   \n",
       "3  https://api.spotify.com/v1/audio-analysis/7J9m...      249940   \n",
       "4  https://api.spotify.com/v1/audio-analysis/1VZe...      278320   \n",
       "\n",
       "  time_signature cluster  \n",
       "0              3       3  \n",
       "1              4       1  \n",
       "2              4       5  \n",
       "3              4       6  \n",
       "4              4       4  \n",
       "\n",
       "[5 rows x 23 columns]"
      ]
     },
     "execution_count": 45,
     "metadata": {},
     "output_type": "execute_result"
    }
   ],
   "source": [
    "data.head(5)"
   ]
  },
  {
   "cell_type": "code",
   "execution_count": 48,
   "id": "64bcc607",
   "metadata": {},
   "outputs": [],
   "source": [
    "# another dataframe just for ease of use\n",
    "songs_server = data[['song_name','name','cluster']]"
   ]
  },
  {
   "cell_type": "code",
   "execution_count": 50,
   "id": "2732484a",
   "metadata": {},
   "outputs": [],
   "source": [
    "import spotipy\n",
    "from spotipy.oauth2 import SpotifyClientCredentials\n",
    "secrets_file = open(\"spotifyclientsecret.txt\",\"r\")\n",
    "string = secrets_file.read()\n",
    "secrets_dict={}\n",
    "for line in string.split('\\n'):\n",
    "    if len(line) > 0:\n",
    "        #print(line.split(':'))\n",
    "        secrets_dict[line.split(':')[0]]=line.split(':')[1].strip()\n",
    "\n",
    "sp = spotipy.Spotify(auth_manager=SpotifyClientCredentials(client_id=secrets_dict['clientid'],\n",
    "                                                           client_secret=secrets_dict['clientsecret'])) # establish connection to Spotify Web api"
   ]
  },
  {
   "cell_type": "markdown",
   "id": "bc820abc",
   "metadata": {},
   "source": [
    "Song Feature retriever"
   ]
  },
  {
   "cell_type": "code",
   "execution_count": 111,
   "id": "c4d6add5",
   "metadata": {},
   "outputs": [],
   "source": [
    "def retrive_pred_feature(song):\n",
    "    query = str(song)\n",
    "    qres = sp.search(q=query, limit=1)\n",
    "    \n",
    "    song_id = qres[\"tracks\"][\"items\"][0]['id']\n",
    "    \n",
    "    featdf = pd.DataFrame(sp.audio_features(song_id))\n",
    "    resdf = featdf[['danceability','energy','key','loudness','mode','speechiness','acousticness','instrumentalness','liveness','valence','tempo']]\n",
    "    return resdf"
   ]
  },
  {
   "cell_type": "markdown",
   "id": "2e0933ad",
   "metadata": {},
   "source": [
    "Cluster recommender"
   ]
  },
  {
   "cell_type": "code",
   "execution_count": 134,
   "id": "bd5b6519",
   "metadata": {},
   "outputs": [],
   "source": [
    "def cluster_recommend(song):\n",
    "    from random import randint\n",
    "    song_features = retrive_pred_feature(song)\n",
    "    \n",
    "    X_pred = scaler.transform(song_features)\n",
    "    \n",
    "    res_cluster = kmeans.predict(X_pred) # the result cluster (just a number) for the input song is here\n",
    "    \n",
    "    same_cluster_songs = songs_server[songs_server['cluster'] == res_cluster[0]].reset_index(drop=True) # gets dataframe of all songs in same cluster\n",
    "    \n",
    "    randindex = randint(0, len(same_cluster_songs))\n",
    "    \n",
    "    output_song = same_cluster_songs.iloc[randindex,:]\n",
    "    \n",
    "    output = output_song[['song_name','name']]\n",
    "    \n",
    "    print('|Song:|  '+output[0]+'  |Artist:|  '+output[1])\n",
    "    \n",
    "    return output"
   ]
  },
  {
   "cell_type": "markdown",
   "id": "0210c228",
   "metadata": {},
   "source": [
    "Compleat recommender"
   ]
  },
  {
   "cell_type": "code",
   "execution_count": 146,
   "id": "015544e1",
   "metadata": {},
   "outputs": [],
   "source": [
    "def arrogant_recommender(x=None):\n",
    "    song = input('Enter a song to hear our recommendation: ')\n",
    "    song_name = str(song).lower() #This makes all the input a lowercase string value, as far as I am concerned, this should not cause any problem and makes it convenient for comparison\n",
    "    if song_name in [name.lower() for name in list(t100['song'])]:\n",
    "        recommend = t100.sample()\n",
    "        vox = 'You may also like ' + recommend['song'].iloc[0] + ' by ' + recommend['artist'].iloc[0] + ' from the current greatst hits.'\n",
    "        print(vox)\n",
    "        return vox\n",
    "    else:\n",
    "        ot = cluster_recommend(song_name)\n",
    "        return ot"
   ]
  },
  {
   "cell_type": "code",
   "execution_count": 148,
   "id": "f78f4f18",
   "metadata": {},
   "outputs": [
    {
     "name": "stdout",
     "output_type": "stream",
     "text": [
      "Enter a song to hear our recommendation: Go west\n",
      "|Song:|  Kevin (feat. Leon Bridges)  |Artist:|  Leon Bridges\n"
     ]
    },
    {
     "data": {
      "text/plain": [
       "song_name    Kevin (feat. Leon Bridges)\n",
       "name                       Leon Bridges\n",
       "Name: 332, dtype: object"
      ]
     },
     "execution_count": 148,
     "metadata": {},
     "output_type": "execute_result"
    }
   ],
   "source": [
    "arrogant_recommender()"
   ]
  },
  {
   "cell_type": "code",
   "execution_count": null,
   "id": "936209aa",
   "metadata": {},
   "outputs": [],
   "source": []
  }
 ],
 "metadata": {
  "kernelspec": {
   "display_name": "Python 3 (ipykernel)",
   "language": "python",
   "name": "python3"
  },
  "language_info": {
   "codemirror_mode": {
    "name": "ipython",
    "version": 3
   },
   "file_extension": ".py",
   "mimetype": "text/x-python",
   "name": "python",
   "nbconvert_exporter": "python",
   "pygments_lexer": "ipython3",
   "version": "3.11.5"
  }
 },
 "nbformat": 4,
 "nbformat_minor": 5
}
